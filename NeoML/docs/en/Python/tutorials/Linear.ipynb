{
 "cells": [
  {
   "cell_type": "markdown",
   "id": "typical-violation",
   "metadata": {},
   "source": [
    "Copyright © 2017-2021 ABBYY Production LLC"
   ]
  },
  {
   "cell_type": "code",
   "execution_count": 1,
   "id": "excessive-wisdom",
   "metadata": {},
   "outputs": [],
   "source": [
    "#@title\n",
    "# \n",
    "# Licensed under the Apache License, Version 2.0 (the \"License\");\n",
    "# you may not use this file except in compliance with the License.\n",
    "# You may obtain a copy of the License at\n",
    "#\n",
    "#     http://www.apache.org/licenses/LICENSE-2.0\n",
    "#\n",
    "# Unless required by applicable law or agreed to in writing, software\n",
    "# distributed under the License is distributed on an \"AS IS\" BASIS,\n",
    "# WITHOUT WARRANTIES OR CONDITIONS OF ANY KIND, either express or implied.\n",
    "# See the License for the specific language governing permissions and\n",
    "# limitations under the License."
   ]
  },
  {
   "cell_type": "markdown",
   "id": "dimensional-moderator",
   "metadata": {},
   "source": [
    "# Linear classifier"
   ]
  },
  {
   "cell_type": "markdown",
   "id": "grave-reservation",
   "metadata": {},
   "source": [
    "[Download the tutorial as a Jupyter notebook](https://github.com/neoml-lib/neoml/blob/master/NeoML/docs/en/Python/tutorials/Linear.ipynb)\n",
    "\n",
    "In this tutorial, we'll use a NeoML linear classifier to process the [20newsgroups dataset](http://qwone.com/~jason/20Newsgroups/). We'll look for the best parameter configuration by trying out every combination over a fixed parameter grid. NeoML also provides a cross-validation function, which we will use to evaluate each configuration's performance.\n",
    "\n",
    "The tutorial includes the following steps:\n",
    "\n",
    "* [Download the dataset](#Download-the-dataset)\n",
    "* [Look for optimal parameters](#Look-for-optimal-parameters)\n",
    "* [Evaluate the best model](#Evaluate-the-best-model)"
   ]
  },
  {
   "cell_type": "markdown",
   "id": "satisfactory-section",
   "metadata": {},
   "source": [
    "## Download the dataset"
   ]
  },
  {
   "cell_type": "markdown",
   "id": "automotive-level",
   "metadata": {},
   "source": [
    "*Note:* This section doesn't have any NeoML-specific code. It just downloads the dataset from the internet. If you are not running this notebook, you may [skip](#Look-for-optimal-parameters) this section."
   ]
  },
  {
   "cell_type": "markdown",
   "id": "fatty-lottery",
   "metadata": {},
   "source": [
    "The **20newsgroups** vectorized dataset can be downloaded from scikit-learn, ready divided into training and testing subsets."
   ]
  },
  {
   "cell_type": "code",
   "execution_count": 2,
   "id": "decent-lewis",
   "metadata": {},
   "outputs": [],
   "source": [
    "from sklearn.datasets import fetch_20newsgroups_vectorized\n",
    "\n",
    "train_data = fetch_20newsgroups_vectorized(subset='train')\n",
    "test_data = fetch_20newsgroups_vectorized(subset='test')"
   ]
  },
  {
   "cell_type": "markdown",
   "id": "motivated-providence",
   "metadata": {},
   "source": [
    "## Look for optimal parameters"
   ]
  },
  {
   "cell_type": "markdown",
   "id": "sporting-abortion",
   "metadata": {},
   "source": [
    "We'll take a brute-force approach and just check all possible combinations of parameters over a fixed parameter grid.\n",
    "\n",
    "For each combination, we'll use the `neoml.CrossValidation.cross_validation_score` method to evaluate the classifier performance on the training set.\n",
    "\n",
    "Once the optimal parameter combination is found, we'll train the classifier with these parameters on the whole training set."
   ]
  },
  {
   "cell_type": "code",
   "execution_count": 3,
   "id": "innocent-victorian",
   "metadata": {},
   "outputs": [],
   "source": [
    "import neoml\n",
    "import itertools\n",
    "\n",
    "def grid_search(init_classifier, X, y, param_grid, n_folds=5):\n",
    "    \"\"\"Searches for the most optimal parameters in the grid\n",
    "    Returns trained model and optimal parameters\n",
    "    \"\"\"\n",
    "    best_params = {}\n",
    "\n",
    "    if param_grid:  # avoid the corner case when param_grid is empty\n",
    "        param_names, param_values_lists = zip(*param_grid.items())\n",
    "        best_acc = -1.\n",
    "        for param_values in itertools.product(*param_values_lists):\n",
    "            params = dict(zip(param_names, param_values))\n",
    "            classifier = init_classifier(**params)\n",
    "            acc = neoml.CrossValidation.cross_validation_score(classifier, X, y, parts=n_folds).mean()\n",
    "            if acc > best_acc:\n",
    "                best_acc = acc\n",
    "                best_params = params\n",
    "\n",
    "    # Train the classifier on the whole training set with the best params\n",
    "    # and return the trained model\n",
    "    best_classifier = init_classifier(**best_params)\n",
    "    return best_classifier.train(X, y), best_params"
   ]
  },
  {
   "cell_type": "code",
   "execution_count": 4,
   "id": "changing-desire",
   "metadata": {},
   "outputs": [
    {
     "name": "stdout",
     "output_type": "stream",
     "text": [
      "Wall time: 7min 1s\n"
     ]
    }
   ],
   "source": [
    "%%time\n",
    "\n",
    "param_grid = {\n",
    "    'loss': ['binomial', 'squared_hinge', 'smoothed_hinge'],\n",
    "    'l1_reg': [0.0, 1e-6, 1e-5, 1e-4, 1e-3, 1e-2, 1e-1],\n",
    "    'thread_count': [4]  # this is only for training, the cross-validation itself is single-threaded\n",
    "}\n",
    "\n",
    "# It will take some time...\n",
    "# IMPORTANT: we're using only the training subset here\n",
    "model, params = grid_search(neoml.Linear.LinearClassifier, train_data.data,\n",
    "                            train_data.target, param_grid)"
   ]
  },
  {
   "cell_type": "markdown",
   "id": "approximate-perspective",
   "metadata": {},
   "source": [
    "Let's see which parameter set gave the best accuracy."
   ]
  },
  {
   "cell_type": "code",
   "execution_count": 5,
   "id": "bright-welsh",
   "metadata": {},
   "outputs": [
    {
     "name": "stdout",
     "output_type": "stream",
     "text": [
      "Best params:  {'loss': 'smoothed_hinge', 'l1_reg': 1e-06, 'thread_count': 4}\n"
     ]
    }
   ],
   "source": [
    "print('Best params: ', params)"
   ]
  },
  {
   "cell_type": "markdown",
   "id": "cutting-preparation",
   "metadata": {},
   "source": [
    "## Evaluate the best model"
   ]
  },
  {
   "cell_type": "markdown",
   "id": "opposite-likelihood",
   "metadata": {},
   "source": [
    "Now we can run the trained model on the test subset."
   ]
  },
  {
   "cell_type": "code",
   "execution_count": 6,
   "id": "searching-documentary",
   "metadata": {},
   "outputs": [
    {
     "name": "stdout",
     "output_type": "stream",
     "text": [
      "<class 'numpy.ndarray'>\n",
      "(7532, 20)\n",
      "float64\n"
     ]
    }
   ],
   "source": [
    "probs = model.classify(test_data.data)\n",
    "\n",
    "print(type(probs))\n",
    "print(probs.shape)\n",
    "print(probs.dtype)"
   ]
  },
  {
   "cell_type": "markdown",
   "id": "apart-client",
   "metadata": {},
   "source": [
    "As you can see, for each object the model returns a probability distribution over classes.\n",
    "\n",
    "Let's also calculate the accuracy of the model on the test subset."
   ]
  },
  {
   "cell_type": "code",
   "execution_count": 7,
   "id": "rotary-occurrence",
   "metadata": {},
   "outputs": [
    {
     "name": "stdout",
     "output_type": "stream",
     "text": [
      "Test accuracy: 0.8236\n"
     ]
    }
   ],
   "source": [
    "import numpy as np\n",
    "\n",
    "y_pred = np.argmax(probs, axis=1)\n",
    "correct = sum(1 for true_class, pred_class in zip(test_data.target, y_pred)\n",
    "              if true_class == pred_class)\n",
    "print(f'Test accuracy: {float(correct)/len(y_pred):.4f}')"
   ]
  }
 ],
 "metadata": {
  "kernelspec": {
   "display_name": "Python 3",
   "language": "python",
   "name": "python3"
  },
  "language_info": {
   "codemirror_mode": {
    "name": "ipython",
    "version": 3
   },
   "file_extension": ".py",
   "mimetype": "text/x-python",
   "name": "python",
   "nbconvert_exporter": "python",
   "pygments_lexer": "ipython3",
   "version": "3.6.4"
  }
 },
 "nbformat": 4,
 "nbformat_minor": 5
}
