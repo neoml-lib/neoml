{
 "cells": [
  {
   "cell_type": "markdown",
   "id": "typical-violation",
   "metadata": {},
   "source": [
    "Copyright © 2017-2021 ABBYY Production LLC"
   ]
  },
  {
   "cell_type": "code",
   "execution_count": 1,
   "id": "excessive-wisdom",
   "metadata": {},
   "outputs": [],
   "source": [
    "#@title\n",
    "# \n",
    "# Licensed under the Apache License, Version 2.0 (the \"License\");\n",
    "# you may not use this file except in compliance with the License.\n",
    "# You may obtain a copy of the License at\n",
    "#\n",
    "#     http://www.apache.org/licenses/LICENSE-2.0\n",
    "#\n",
    "# Unless required by applicable law or agreed to in writing, software\n",
    "# distributed under the License is distributed on an \"AS IS\" BASIS,\n",
    "# WITHOUT WARRANTIES OR CONDITIONS OF ANY KIND, either express or implied.\n",
    "# See the License for the specific language governing permissions and\n",
    "# limitations under the License."
   ]
  },
  {
   "cell_type": "markdown",
   "id": "dimensional-moderator",
   "metadata": {},
   "source": [
    "# Linear classificator tutorial"
   ]
  },
  {
   "cell_type": "markdown",
   "id": "grave-reservation",
   "metadata": {},
   "source": [
    "This tutorial contains the following steps:\n",
    "\n",
    "* Download dataset\n",
    "* Search for optimal model parameters\n",
    "* Evaluate the best model"
   ]
  },
  {
   "cell_type": "markdown",
   "id": "satisfactory-section",
   "metadata": {},
   "source": [
    "## Download dataset"
   ]
  },
  {
   "cell_type": "markdown",
   "id": "automotive-level",
   "metadata": {},
   "source": [
    "*Note*: This section doesn't have any NeoML-specific code. It just downloads dataset from the internet. If you are not running this notebook, you may [skip](#Search-for-optimal-model-parameters) this section."
   ]
  },
  {
   "cell_type": "markdown",
   "id": "fatty-lottery",
   "metadata": {},
   "source": [
    "In this tutorial we will use 20newsgroups vectorized dataset from scikit-learn"
   ]
  },
  {
   "cell_type": "code",
   "execution_count": 2,
   "id": "decent-lewis",
   "metadata": {},
   "outputs": [],
   "source": [
    "from sklearn.datasets import fetch_20newsgroups_vectorized\n",
    "\n",
    "train_data = fetch_20newsgroups_vectorized(subset='train')\n",
    "test_data = fetch_20newsgroups_vectorized(subset='test')"
   ]
  },
  {
   "cell_type": "markdown",
   "id": "motivated-providence",
   "metadata": {},
   "source": [
    "## Search for optimal model parameters"
   ]
  },
  {
   "cell_type": "markdown",
   "id": "sporting-abortion",
   "metadata": {},
   "source": [
    "We'll be searching for optimal parameters by brute-force over the fixed parameter grid.\n",
    "\n",
    "For parameter evaluation we'll be using cross-validation from the neoml."
   ]
  },
  {
   "cell_type": "code",
   "execution_count": 3,
   "id": "innocent-victorian",
   "metadata": {},
   "outputs": [],
   "source": [
    "import neoml\n",
    "import itertools\n",
    "\n",
    "def grid_search(init_classifier, X, y, param_grid, n_folds=5):\n",
    "    \"\"\"Searches for the most optimal parameters in the grid\n",
    "    Returns trained model and optimal parameters\n",
    "    \"\"\"\n",
    "    best_params = {}\n",
    "\n",
    "    if param_grid:  # Avoid corner case when param_grid is empty\n",
    "        param_names, param_values_lists = zip(*param_grid.items())\n",
    "        best_acc = -1.\n",
    "        for param_values in itertools.product(*param_values_lists):\n",
    "            params = dict(zip(param_names, param_values))\n",
    "            classifier = init_classifier(**params)\n",
    "            acc = neoml.CrossValidation.cross_validation_score(classifier, X, y, parts=n_folds).mean()\n",
    "            if acc > best_acc:\n",
    "                best_acc = acc\n",
    "                best_params = params\n",
    "\n",
    "    # Training classifier on the whole data with the best params\n",
    "    best_classifier = init_classifier(**best_params)\n",
    "    return best_classifier.train(X, y), best_params"
   ]
  },
  {
   "cell_type": "code",
   "execution_count": 4,
   "id": "changing-desire",
   "metadata": {},
   "outputs": [
    {
     "name": "stdout",
     "output_type": "stream",
     "text": [
      "Wall time: 7min 1s\n"
     ]
    }
   ],
   "source": [
    "%%time\n",
    "\n",
    "param_grid = {\n",
    "    'loss': ['binomial', 'squared_hinge', 'smoothed_hinge'],\n",
    "    'l1_reg': [0.0, 1e-6, 1e-5, 1e-4, 1e-3, 1e-2, 1e-1],\n",
    "    'thread_count': [4]  # The cross validation itself is single-threaded\n",
    "}\n",
    "\n",
    "# It will take some time...\n",
    "# IMPORTANT: we're using only train subset here\n",
    "model, params = grid_search(neoml.Linear.LinearClassifier, train_data.data,\n",
    "                            train_data.target, param_grid)"
   ]
  },
  {
   "cell_type": "markdown",
   "id": "approximate-perspective",
   "metadata": {},
   "source": [
    "Let's see which of the parameters fitted the best"
   ]
  },
  {
   "cell_type": "code",
   "execution_count": 5,
   "id": "bright-welsh",
   "metadata": {},
   "outputs": [
    {
     "name": "stdout",
     "output_type": "stream",
     "text": [
      "Best params:  {'loss': 'smoothed_hinge', 'l1_reg': 1e-06, 'thread_count': 4}\n"
     ]
    }
   ],
   "source": [
    "print('Best params: ', params)"
   ]
  },
  {
   "cell_type": "markdown",
   "id": "cutting-preparation",
   "metadata": {},
   "source": [
    "## Evaluate the best model"
   ]
  },
  {
   "cell_type": "markdown",
   "id": "opposite-likelihood",
   "metadata": {},
   "source": [
    "Let's take a look how the model returns classification result"
   ]
  },
  {
   "cell_type": "code",
   "execution_count": 6,
   "id": "searching-documentary",
   "metadata": {},
   "outputs": [
    {
     "name": "stdout",
     "output_type": "stream",
     "text": [
      "<class 'numpy.ndarray'>\n",
      "(7532, 20)\n",
      "float64\n"
     ]
    }
   ],
   "source": [
    "probs = model.classify(test_data.data)\n",
    "\n",
    "print(type(probs))\n",
    "print(probs.shape)\n",
    "print(probs.dtype)"
   ]
  },
  {
   "cell_type": "markdown",
   "id": "apart-client",
   "metadata": {},
   "source": [
    "As you can see the model returns a probability distribution over classes for each object.\n",
    "\n",
    "Now, let's calculate the test accuracy."
   ]
  },
  {
   "cell_type": "code",
   "execution_count": 7,
   "id": "rotary-occurrence",
   "metadata": {},
   "outputs": [
    {
     "name": "stdout",
     "output_type": "stream",
     "text": [
      "Test accuracy: 0.8236\n"
     ]
    }
   ],
   "source": [
    "import numpy as np\n",
    "\n",
    "y_pred = np.argmax(probs, axis=1)\n",
    "correct = sum(1 for true_class, pred_class in zip(test_data.target, y_pred)\n",
    "              if true_class == pred_class)\n",
    "print(f'Test accuracy: {float(correct)/len(y_pred):.4f}')"
   ]
  }
 ],
 "metadata": {
  "kernelspec": {
   "display_name": "Python 3",
   "language": "python",
   "name": "python3"
  },
  "language_info": {
   "codemirror_mode": {
    "name": "ipython",
    "version": 3
   },
   "file_extension": ".py",
   "mimetype": "text/x-python",
   "name": "python",
   "nbconvert_exporter": "python",
   "pygments_lexer": "ipython3",
   "version": "3.6.10"
  }
 },
 "nbformat": 4,
 "nbformat_minor": 5
}
